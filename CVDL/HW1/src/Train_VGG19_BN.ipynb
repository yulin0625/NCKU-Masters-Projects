{
 "cells": [
  {
   "cell_type": "code",
   "execution_count": null,
   "metadata": {},
   "outputs": [],
   "source": [
    "import os\n",
    "import copy\n",
    "import torch\n",
    "import torch.nn as nn\n",
    "import torchvision\n",
    "from torchvision import transforms, datasets, models\n",
    "from torch import optim\n",
    "import pickle as pkl\n",
    "from torchsummary import summary\n",
    "from torchvision.models import vgg19_bn, VGG19_BN_Weights\n",
    "import matplotlib.pyplot as plt\n",
    "from tqdm import tqdm\n",
    "from datetime import datetime"
   ]
  },
  {
   "cell_type": "code",
   "execution_count": null,
   "metadata": {},
   "outputs": [],
   "source": [
    "time = datetime.now().strftime(\"%Y%m%d_%H%M%S\")"
   ]
  },
  {
   "cell_type": "markdown",
   "metadata": {},
   "source": [
    "### Load the CIFAR10 training and test datasets"
   ]
  },
  {
   "cell_type": "code",
   "execution_count": null,
   "metadata": {},
   "outputs": [],
   "source": [
    "transform = transforms.Compose([\n",
    "    transforms.ToTensor(),\n",
    "    # transforms.RandomHorizontalFlip(p=0.5),\n",
    "    # transforms.RandomVerticalFlip(p=0.5),\n",
    "    transforms.RandomRotation(degrees=30),\n",
    "    transforms.Normalize((0.5,0.5,0.5),(0.5,0.5,0.5)),\n",
    "])\n",
    "\n",
    "batch_size = 16\n",
    "\n",
    "train_dataset = torchvision.datasets.CIFAR10(\n",
    "    root=\"./data\", train=True, download=True, transform=transform\n",
    ")\n",
    "\n",
    "train_loader = torch.utils.data.DataLoader(\n",
    "    train_dataset, batch_size=batch_size, shuffle=True, num_workers=2\n",
    ")\n",
    "\n",
    "test_dataset = torchvision.datasets.CIFAR10(\n",
    "    root=\"./data\", train=False, download=True, transform=transform\n",
    ")\n",
    "\n",
    "test_loader = torch.utils.data.DataLoader(\n",
    "    test_dataset, batch_size=batch_size, shuffle=False, num_workers=2\n",
    ")\n",
    "\n",
    "classes = [\n",
    "    \"airplane\",\n",
    "    \"automobile\",\n",
    "    \"bird\",\n",
    "    \"cat\",\n",
    "    \"deer\",\n",
    "    \"dog\",\n",
    "    \"frog\",\n",
    "    \"horse\",\n",
    "    \"ship\",\n",
    "    \"truck\",\n",
    "]"
   ]
  },
  {
   "cell_type": "markdown",
   "metadata": {},
   "source": [
    "### Defind model"
   ]
  },
  {
   "cell_type": "code",
   "execution_count": null,
   "metadata": {},
   "outputs": [],
   "source": [
    "class MyVGG19_BN(nn.Module):\n",
    "    def __init__(self, num_classes=10, dropout: float = 0.5):\n",
    "        super(MyVGG19_BN, self).__init__()\n",
    "        pretrain_model = models.vgg19_bn(weights=VGG19_BN_Weights.DEFAULT)\n",
    "        pretrain_model.classifier = nn.Sequential()  # remove last layer\n",
    "        self.features = pretrain_model.features\n",
    "        self.avgpool = pretrain_model.avgpool\n",
    "        self.classifier = nn.Sequential(\n",
    "            nn.Linear(512 * 7 * 7, 4096),\n",
    "            nn.ReLU(True),\n",
    "            nn.Dropout(p=dropout),\n",
    "            nn.Linear(4096, 4096),\n",
    "            nn.ReLU(True),\n",
    "            nn.Dropout(p=dropout),\n",
    "            nn.Linear(4096, num_classes),\n",
    "        )\n",
    "\n",
    "    def forward(self, x):\n",
    "        x = self.features(x)\n",
    "        x = self.avgpool(x)\n",
    "        x = torch.flatten(x, 1)\n",
    "        x = self.classifier(x)\n",
    "        return x"
   ]
  },
  {
   "cell_type": "code",
   "execution_count": null,
   "metadata": {},
   "outputs": [],
   "source": [
    "model = MyVGG19_BN(num_classes=10)\n",
    "summary(model, (3, 32, 32))"
   ]
  },
  {
   "cell_type": "code",
   "execution_count": null,
   "metadata": {},
   "outputs": [],
   "source": [
    "print(model)"
   ]
  },
  {
   "cell_type": "markdown",
   "metadata": {},
   "source": [
    "### Define a Loss function and optimizer"
   ]
  },
  {
   "cell_type": "code",
   "execution_count": null,
   "metadata": {},
   "outputs": [],
   "source": [
    "loss_func = nn.CrossEntropyLoss()\n",
    "optimizer = optim.SGD(model.parameters(), lr=0.001, momentum=0.9)"
   ]
  },
  {
   "cell_type": "markdown",
   "metadata": {},
   "source": [
    "###  Train the network"
   ]
  },
  {
   "cell_type": "code",
   "execution_count": null,
   "metadata": {},
   "outputs": [],
   "source": [
    "num_epoches = 50"
   ]
  },
  {
   "cell_type": "code",
   "execution_count": null,
   "metadata": {},
   "outputs": [],
   "source": [
    "def harmonic(train_acc, test_acc):\n",
    "    harmonic = 2 * train_acc * test_acc / (train_acc + test_acc)\n",
    "    return harmonic"
   ]
  },
  {
   "cell_type": "code",
   "execution_count": null,
   "metadata": {},
   "outputs": [],
   "source": [
    "training_acc = []\n",
    "training_loss = []\n",
    "testing_acc = []\n",
    "testing_loss = []\n",
    "# H = 0.0  # harmonic\n",
    "best_testing_acc = 0.0\n",
    "best_model = copy.deepcopy(model)\n",
    "\n",
    "device = torch.device(\"cuda\" if torch.cuda.is_available() else \"cpu\")\n",
    "model = model.to(device)\n",
    "\n",
    "\n",
    "# train model\n",
    "for epoch in range(num_epoches):\n",
    "    model.train()\n",
    "    print(\"\\n\", \"*\" * 25, \"epoch {}\".format(epoch + 1), \"*\" * 25)\n",
    "    running_loss = 0.0\n",
    "    num_correct = 0.0\n",
    "\n",
    "    train_loop = tqdm(train_loader)\n",
    "    for data in train_loop:\n",
    "        img, label = data\n",
    "        img, label = img.to(device), label.to(device)\n",
    "\n",
    "        out = model(img)\n",
    "\n",
    "        loss = loss_func(out, label)\n",
    "        optimizer.zero_grad()\n",
    "        loss.backward()\n",
    "        optimizer.step()\n",
    "\n",
    "        # calculate acc & loss\n",
    "        running_loss += loss.item() * label.size(0)\n",
    "        probs = torch.softmax(out, dim=1)\n",
    "        _, pred = torch.max(probs, dim=1)\n",
    "        num_correct += (pred == label).sum().item()\n",
    "\n",
    "        train_loop.set_description(f\"Train Epoch [{epoch + 1}/{num_epoches}]\")\n",
    "\n",
    "    train_acc = num_correct / len(train_dataset)\n",
    "    train_loss = running_loss / len(train_dataset)\n",
    "    training_acc.append(train_acc)\n",
    "    training_loss.append(train_loss)\n",
    "    print(\"Train --> Loss: {:.6f}, Acc: {:.6f}\".format(train_loss, train_acc))\n",
    "\n",
    "    # 用 testing dataset 來評估 model\n",
    "    model.eval()\n",
    "    eval_loss = 0\n",
    "    num_correct = 0\n",
    "\n",
    "    test_loop = tqdm(test_loader)\n",
    "    for data in test_loop:\n",
    "        img, label = data\n",
    "        img, label = img.to(device).detach(), label.to(device).detach()\n",
    "\n",
    "        out = model(img)\n",
    "        loss = loss_func(out, label)\n",
    "        eval_loss += loss.item() * label.size(0)\n",
    "        probs = torch.softmax(out, dim=1)\n",
    "        _, pred = torch.max(probs, dim=1)\n",
    "        num_correct += (pred == label).sum().item()\n",
    "\n",
    "        test_loop.set_description(f\"Test Epoch [{epoch + 1}/{num_epoches}]\")\n",
    "\n",
    "    test_acc = num_correct / len(test_dataset)\n",
    "    test_loss = eval_loss / len(test_dataset)\n",
    "    testing_acc.append(test_acc)\n",
    "    testing_loss.append(test_loss)\n",
    "    print(\"Test -->  Loss: {:.6f}, Acc: {:.6f}\".format(test_loss, test_acc))\n",
    "\n",
    "    # 紀錄 Harmonic 最高的 model 為 best model\n",
    "\n",
    "    # current_H = harmonic(train_acc, test_acc)\n",
    "    # if current_H > H:\n",
    "    #     best_model = copy.deepcopy(model)\n",
    "    #     H = current_H\n",
    "    # print(\"Current Harmonic : {:.6f}, Best Harmonic : {:.6f}\".format(current_H, H))\n",
    "\n",
    "    if test_acc > best_testing_acc :\n",
    "        best_model = copy.deepcopy(model)\n",
    "        best_testing_acc  = test_acc\n",
    "    print(\"Current testing acc : {:.6f}, Best testing acc : {:.6f}\".format(test_acc, best_testing_acc ))\n",
    "\n",
    "\n",
    "\n",
    "# save best model\n",
    "if os.path.exists(\"./models\") == False:\n",
    "    os.mkdir(\"./models\")\n",
    "torch.save(best_model.state_dict(), f\"./models/VGG19_bn_cifar10_state_dict_{time}_{test_acc}.pth\")\n",
    "# torch.save(best_model, \"./models/VGG19_bn_cifar10.pth\")"
   ]
  },
  {
   "cell_type": "code",
   "execution_count": null,
   "metadata": {},
   "outputs": [],
   "source": [
    "if os.path.exists(\"./log\") == False:\n",
    "    os.mkdir(\"./log\")\n",
    "# save training & testing loss\n",
    "title = \"Loss\"\n",
    "x = [i for i in range(1, num_epoches + 1)]\n",
    "plt.figure()\n",
    "plt.plot(x, training_loss)\n",
    "plt.plot(x, testing_loss)\n",
    "plt.title(title)\n",
    "plt.xlabel(\"epoch\")\n",
    "plt.ylabel(\"loss\")\n",
    "plt.legend([\"training\", \"testing\"], loc=\"upper right\")\n",
    "plt.savefig(f\"./log/vgg19_bn_{title}_{time}.jpg\")\n",
    "plt.show()"
   ]
  },
  {
   "cell_type": "code",
   "execution_count": null,
   "metadata": {},
   "outputs": [],
   "source": [
    "# save training & testing acc\n",
    "title = \"Accuracy\"\n",
    "x = [i for i in range(1, num_epoches + 1)]\n",
    "plt.plot(x, training_acc)\n",
    "plt.plot(x, testing_acc)\n",
    "plt.title(title)\n",
    "plt.xlabel(\"epoch\")\n",
    "plt.ylabel(\"acc\")\n",
    "plt.legend([\"training\", \"testing\"], loc=\"lower right\")\n",
    "plt.savefig(f\"./log/vgg19_bn_{title}_{time}.jpg\")\n",
    "plt.show()"
   ]
  },
  {
   "cell_type": "markdown",
   "metadata": {},
   "source": [
    "## Inference"
   ]
  },
  {
   "cell_type": "code",
   "execution_count": null,
   "metadata": {},
   "outputs": [],
   "source": [
    "classes = [\n",
    "    \"airplane\",\n",
    "    \"automobile\",\n",
    "    \"bird\",\n",
    "    \"cat\",\n",
    "    \"deer\",\n",
    "    \"dog\",\n",
    "    \"frog\",\n",
    "    \"horse\",\n",
    "    \"ship\",\n",
    "    \"truck\",\n",
    "]"
   ]
  },
  {
   "cell_type": "code",
   "execution_count": null,
   "metadata": {},
   "outputs": [],
   "source": [
    "# from PIL import Image\n",
    "\n",
    "# device = torch.device(\"cuda\" if torch.cuda.is_available() else \"cpu\")\n",
    "# model_path = \"./models/VGG19_bn_cifar10_state_dict.pth\"\n",
    "# test_model = MyVGG19_BN(num_classes=10)\n",
    "# test_model.load_state_dict(torch.load(model_path))\n",
    "\n",
    "\n",
    "# inference_img = Image.open(\"./Dataset_CvDl_Hw1/Q5_image/Q5_4/airplane.png\")\n",
    "# transform = transforms.Compose(\n",
    "#     [transforms.ToTensor(), transforms.Normalize((0.5, 0.5, 0.5), (0.5, 0.5, 0.5))]\n",
    "# )\n",
    "\n",
    "# inference_img = transform(inference_img)\n",
    "\n",
    "# img_normalized = inference_img.unsqueeze_(0)\n",
    "# img_normalized = img_normalized.to(device)\n",
    "\n",
    "\n",
    "# with torch.no_grad():\n",
    "#     test_model = model.to(device)\n",
    "#     test_model.eval()\n",
    "#     output = test_model(img_normalized)\n",
    "#     probs = torch.softmax(output, dim=1)\n",
    "#     # _, pred = torch.max(probs, dim=1)\n",
    "#     index = probs.data.cpu().numpy().argmax()\n",
    "#     pred_class_name = classes[index]\n",
    "#     print(f\"Predicted Class: {pred_class_name}\")\n",
    "#     x = [i for i in range(len(classes))]\n",
    "#     fig = plt.figure(figsize=(5, 5))\n",
    "#     plt.bar(x, probs.data.cpu().numpy()[0], tick_label=classes)\n",
    "#     plt.title(f\"Probability of each class\")\n",
    "#     plt.xticks(rotation=45)\n",
    "#     plt.xlabel(\"Class\")\n",
    "#     plt.ylabel(\"Probability\")\n",
    "#     plt.show()"
   ]
  }
 ],
 "metadata": {
  "kernelspec": {
   "display_name": "py310",
   "language": "python",
   "name": "python3"
  },
  "language_info": {
   "codemirror_mode": {
    "name": "ipython",
    "version": 3
   },
   "file_extension": ".py",
   "mimetype": "text/x-python",
   "name": "python",
   "nbconvert_exporter": "python",
   "pygments_lexer": "ipython3",
   "version": "3.10.12"
  }
 },
 "nbformat": 4,
 "nbformat_minor": 2
}
